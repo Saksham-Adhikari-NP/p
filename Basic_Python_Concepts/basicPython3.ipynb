{
  "nbformat": 4,
  "nbformat_minor": 0,
  "metadata": {
    "colab": {
      "provenance": [],
      "include_colab_link": true
    },
    "kernelspec": {
      "name": "python3",
      "display_name": "Python 3"
    },
    "language_info": {
      "name": "python"
    }
  },
  "cells": [
    {
      "cell_type": "markdown",
      "metadata": {
        "id": "view-in-github",
        "colab_type": "text"
      },
      "source": [
        "<a href=\"https://colab.research.google.com/github/Saksham-Adhikari-NP/p/blob/main/Basic_Python_Concepts/basicPython3.ipynb\" target=\"_parent\"><img src=\"https://colab.research.google.com/assets/colab-badge.svg\" alt=\"Open In Colab\"/></a>"
      ]
    },
    {
      "cell_type": "markdown",
      "source": [
        "# Function\n"
      ],
      "metadata": {
        "id": "v_5tpL74hGQM"
      }
    },
    {
      "cell_type": "markdown",
      "source": [
        "#### Function Definition\n",
        "\n",
        "\n",
        "\n",
        "\n"
      ],
      "metadata": {
        "id": "jHILnkNQA2lG"
      }
    },
    {
      "cell_type": "markdown",
      "source": [
        "#### Function Call"
      ],
      "metadata": {
        "id": "ECSJnuP0BC4T"
      }
    },
    {
      "cell_type": "markdown",
      "source": [
        "---"
      ],
      "metadata": {
        "id": "_fDJ6qvqBI_c"
      }
    },
    {
      "cell_type": "markdown",
      "source": [
        "##### A function is a block of code which only runs when it is called."
      ],
      "metadata": {
        "id": "_gW4FDI7APCd"
      }
    },
    {
      "cell_type": "markdown",
      "source": [
        "---"
      ],
      "metadata": {
        "id": "l2cWa5FWBV59"
      }
    },
    {
      "cell_type": "markdown",
      "source": [
        "#####A parameter is the variable listed inside the parentheses in the function definition. An argument is the value that are sent to the function when it is called."
      ],
      "metadata": {
        "id": "9NtP4vb8BRzN"
      }
    },
    {
      "cell_type": "markdown",
      "source": [
        "---"
      ],
      "metadata": {
        "id": "2fcYSJHzBWyu"
      }
    },
    {
      "cell_type": "markdown",
      "source": [
        "#### Known arguments"
      ],
      "metadata": {
        "id": "4-6s-hKlhDKC"
      }
    },
    {
      "cell_type": "code",
      "execution_count": null,
      "metadata": {
        "id": "9VaaV54CcZC5"
      },
      "outputs": [],
      "source": [
        "def knownArgument(author):\n",
        "    print(f'The writer of the manga is {author}.')"
      ]
    },
    {
      "cell_type": "code",
      "source": [
        "knownArgument(\"Ginsama\")"
      ],
      "metadata": {
        "id": "bHv3a0Mbg6Yl",
        "colab": {
          "base_uri": "https://localhost:8080/"
        },
        "outputId": "953d9862-3fc5-44a5-c1d2-7ccb8edee6ff"
      },
      "execution_count": null,
      "outputs": [
        {
          "output_type": "stream",
          "name": "stdout",
          "text": [
            "The writer of the manga is Ginsama.\n"
          ]
        }
      ]
    },
    {
      "cell_type": "markdown",
      "source": [
        "#####  A function is a block of code that performs a specific task, while a function call is an expression that invokes a function and executes the code in the function."
      ],
      "metadata": {
        "id": "G03nHXltAul6"
      }
    },
    {
      "cell_type": "markdown",
      "source": [
        "#### Unknown arguments\n"
      ],
      "metadata": {
        "id": "QFViAyRLg7EE"
      }
    },
    {
      "cell_type": "markdown",
      "source": [
        "##### If the number of arguments that will be passed into the function, asterisk (*) is added before parameter name in function definition.\n"
      ],
      "metadata": {
        "id": "DDuMOrSpg65H"
      }
    },
    {
      "cell_type": "markdown",
      "source": [
        "##### The function will receive tuple of arguments and it will access the items accordingly.\n"
      ],
      "metadata": {
        "id": "ir3D2pdLg3u0"
      }
    },
    {
      "cell_type": "code",
      "source": [
        "def arbitraryArguments(*contributors):\n",
        "    print(contributors)\n",
        "    print('The most significant contributor is '+ contributors[0]+'.')"
      ],
      "metadata": {
        "id": "FalrSVDag2G4"
      },
      "execution_count": null,
      "outputs": []
    },
    {
      "cell_type": "code",
      "source": [
        "arbitraryArguments('Gojo Satour','Uchiha Madara')"
      ],
      "metadata": {
        "id": "hD55sxt3g0jZ",
        "colab": {
          "base_uri": "https://localhost:8080/"
        },
        "outputId": "9852b547-5366-4690-bbb6-1ed39053a447"
      },
      "execution_count": null,
      "outputs": [
        {
          "output_type": "stream",
          "name": "stdout",
          "text": [
            "('Gojo Satour', 'Uchiha Madara')\n",
            "The most significant contributor is Gojo Satour.\n"
          ]
        }
      ]
    },
    {
      "cell_type": "markdown",
      "source": [
        "#### Keyword arguments\n"
      ],
      "metadata": {
        "id": "X0utdFTpgxmX"
      }
    },
    {
      "cell_type": "code",
      "source": [
        "def keywordArguments(antagonist, writer, protagonist):\n",
        "    print('The writer is '+writer+', the protagonist is '+protagonist+' and the antagonist is '+antagonist+'.')"
      ],
      "metadata": {
        "id": "5-kAi5njgvV-"
      },
      "execution_count": null,
      "outputs": []
    },
    {
      "cell_type": "code",
      "source": [
        "keywordArguments(protagonist='Shanks',antagonist='Imu',writer='Oda' )"
      ],
      "metadata": {
        "id": "O9kSbw9WgYvS",
        "colab": {
          "base_uri": "https://localhost:8080/"
        },
        "outputId": "376d2cdb-5967-46a7-8505-66cdba6ffeb2"
      },
      "execution_count": null,
      "outputs": [
        {
          "output_type": "stream",
          "name": "stdout",
          "text": [
            "The writer is Oda, the protagonist is Shanks and the antagonist is Imu.\n"
          ]
        }
      ]
    },
    {
      "cell_type": "markdown",
      "source": [
        "##### If the number of keyword arguments that will be passed into the function, ** is added before parameter name in function definition.\n"
      ],
      "metadata": {
        "id": "y2W7K4DqgZ0T"
      }
    },
    {
      "cell_type": "markdown",
      "source": [
        "#### Arbitrary keyword arguments\n"
      ],
      "metadata": {
        "id": "Pi1z_l7VgZxs"
      }
    },
    {
      "cell_type": "code",
      "source": [
        "def arbitraryKeywordArguments(**contributors):\n",
        "    print('The most significant contributor is '+ contributors['second']+'.')"
      ],
      "metadata": {
        "id": "YgXhYGqngVIX"
      },
      "execution_count": null,
      "outputs": []
    },
    {
      "cell_type": "code",
      "source": [
        "arbitraryKeywordArguments(first = 'Gojo Satour', second = 'Uchiha Madara')"
      ],
      "metadata": {
        "id": "5SRlfJlbgTJx",
        "colab": {
          "base_uri": "https://localhost:8080/"
        },
        "outputId": "bf403a93-6f0a-4fa2-db0c-e182b1ec7a72"
      },
      "execution_count": null,
      "outputs": [
        {
          "output_type": "stream",
          "name": "stdout",
          "text": [
            "The most significant contributor is Uchiha Madara.\n"
          ]
        }
      ]
    },
    {
      "cell_type": "markdown",
      "source": [
        "#### Default parameter\n"
      ],
      "metadata": {
        "id": "ymGboCuYgK8s"
      }
    },
    {
      "cell_type": "code",
      "source": [
        "def defaultParameters(antagonist, writer, protagonist=\"Ginsama\"):\n",
        "    print('The writer is '+writer+', the protagonist is '+protagonist+' and the antagonist is '+antagonist+'.')"
      ],
      "metadata": {
        "id": "R9Xi01eYgLZa"
      },
      "execution_count": null,
      "outputs": []
    },
    {
      "cell_type": "code",
      "source": [
        "defaultParameters(protagonist='Shanks',antagonist='Imu',writer='Oda' )\n"
      ],
      "metadata": {
        "id": "I7Jc8fy0f_Rc",
        "colab": {
          "base_uri": "https://localhost:8080/"
        },
        "outputId": "51ab6042-842a-4725-988b-3d32fde6f1af"
      },
      "execution_count": null,
      "outputs": [
        {
          "output_type": "stream",
          "name": "stdout",
          "text": [
            "The writer is Oda, the protagonist is Shanks and the antagonist is Imu.\n"
          ]
        }
      ]
    },
    {
      "cell_type": "code",
      "source": [
        "defaultParameters(antagonist='Imu',writer='Oda')"
      ],
      "metadata": {
        "colab": {
          "base_uri": "https://localhost:8080/"
        },
        "id": "umWpRmq9fLAh",
        "outputId": "4df8bef6-ccf2-4af1-8b58-a56f43046ede"
      },
      "execution_count": null,
      "outputs": [
        {
          "output_type": "stream",
          "name": "stdout",
          "text": [
            "The writer is Oda, the protagonist is Ginsama and the antagonist is Imu.\n"
          ]
        }
      ]
    },
    {
      "cell_type": "markdown",
      "source": [
        "#### Use of Pass statement"
      ],
      "metadata": {
        "id": "_8_pvXcygCiS"
      }
    },
    {
      "cell_type": "markdown",
      "source": [
        "##### Function definitions cannot be empty. Todefine a function with no content  use pass statement.\n"
      ],
      "metadata": {
        "id": "NmbIgATXf_8I"
      }
    },
    {
      "cell_type": "code",
      "source": [
        "def noFunction():\n",
        "    pass"
      ],
      "metadata": {
        "id": "PqEiZfUmf-ld"
      },
      "execution_count": null,
      "outputs": []
    },
    {
      "cell_type": "markdown",
      "source": [
        "#### Use of return statement"
      ],
      "metadata": {
        "id": "c-PlJ90pf578"
      }
    },
    {
      "cell_type": "code",
      "source": [
        "def addition(a,b):\n",
        "    x = a + b\n",
        "    return x"
      ],
      "metadata": {
        "id": "IP433nzsf3Xu"
      },
      "execution_count": null,
      "outputs": []
    },
    {
      "cell_type": "code",
      "source": [
        "sum = addition(5,6)\n",
        "result = sum - 3\n",
        "print(f'The result is {result}.')"
      ],
      "metadata": {
        "id": "RuvayDE8f1J0",
        "colab": {
          "base_uri": "https://localhost:8080/"
        },
        "outputId": "4e93cba3-5c94-4802-a026-874d2ec507e3"
      },
      "execution_count": null,
      "outputs": [
        {
          "output_type": "stream",
          "name": "stdout",
          "text": [
            "The result is 8.\n"
          ]
        }
      ]
    },
    {
      "cell_type": "markdown",
      "source": [
        "#### Passing list as Argument\n"
      ],
      "metadata": {
        "id": "koyxGeTVfweG"
      }
    },
    {
      "cell_type": "code",
      "source": [
        "def display(numbers):\n",
        "    for number in numbers:\n",
        "        print (number)"
      ],
      "metadata": {
        "id": "fHcPUAAgfvWP"
      },
      "execution_count": null,
      "outputs": []
    },
    {
      "cell_type": "code",
      "source": [
        "numbers = [10,100,1000]\n",
        "display(numbers)"
      ],
      "metadata": {
        "id": "bPatb302fAuR",
        "colab": {
          "base_uri": "https://localhost:8080/"
        },
        "outputId": "c076d211-948e-4ed4-d32e-0130d438b77a"
      },
      "execution_count": null,
      "outputs": [
        {
          "output_type": "stream",
          "name": "stdout",
          "text": [
            "10\n",
            "100\n",
            "1000\n"
          ]
        }
      ]
    },
    {
      "cell_type": "markdown",
      "source": [
        "### Recursion function\n"
      ],
      "metadata": {
        "id": "ArRu7Z_Nevlt"
      }
    },
    {
      "cell_type": "markdown",
      "source": [
        "##### A recursion function calls itself. We need to be very careful with recursion as we can end up writting a function which never terminates, or one that uses excess memory or processor power.\n"
      ],
      "metadata": {
        "id": "TQOJAGwfe5MQ"
      }
    },
    {
      "cell_type": "code",
      "source": [
        "def factorial(num):\n",
        "    if num == 0 or num == 1:\n",
        "        return 1\n",
        "    else :\n",
        "        return num * factorial(num-1)"
      ],
      "metadata": {
        "id": "Tyj_x1G7evNo"
      },
      "execution_count": null,
      "outputs": []
    },
    {
      "cell_type": "code",
      "source": [
        "factorialOfNum = factorial(10)\n",
        "print(f'The factorial of the number is {factorialOfNum}.')"
      ],
      "metadata": {
        "id": "PYbXqA7eeqc0",
        "colab": {
          "base_uri": "https://localhost:8080/"
        },
        "outputId": "757634cb-8586-42a4-f01e-5a13deba7877"
      },
      "execution_count": null,
      "outputs": [
        {
          "output_type": "stream",
          "name": "stdout",
          "text": [
            "The factorial of the number is 3628800.\n"
          ]
        }
      ]
    },
    {
      "cell_type": "markdown",
      "source": [
        "### Lambda functions"
      ],
      "metadata": {
        "id": "owRMRre8ex1K"
      }
    },
    {
      "cell_type": "markdown",
      "source": [
        "##### Lambda functions are anonymous functions means it is without a name.\n"
      ],
      "metadata": {
        "id": "z1LY20YkelET"
      }
    },
    {
      "cell_type": "code",
      "source": [
        "message = input('Enter a message\\n')\n",
        "\n",
        "upperMessage = lambda string: string.upper()\n",
        "print(upperMessage)"
      ],
      "metadata": {
        "id": "Cib65A-yejMI",
        "colab": {
          "base_uri": "https://localhost:8080/"
        },
        "outputId": "39a78adb-c40c-42c4-b420-1ad835605de7"
      },
      "execution_count": null,
      "outputs": [
        {
          "output_type": "stream",
          "name": "stdout",
          "text": [
            "Enter a message\n",
            "Hello\n",
            "<function <lambda> at 0x7f4fbc7b3f40>\n"
          ]
        }
      ]
    },
    {
      "cell_type": "markdown",
      "source": [
        "##### <function ...> indicates that it's a function object.\n"
      ],
      "metadata": {
        "id": "ONqirPHSIFwP"
      }
    },
    {
      "cell_type": "markdown",
      "source": [
        "##### lambda specifies that it's a lambda function\n"
      ],
      "metadata": {
        "id": "5GG48ak6IfFv"
      }
    },
    {
      "cell_type": "markdown",
      "source": [
        "#####The remaining part represents the memory address where the function is stored in the computer's memory."
      ],
      "metadata": {
        "id": "ElMaxU7xIhuh"
      }
    },
    {
      "cell_type": "code",
      "source": [
        "print(upperMessage(message))"
      ],
      "metadata": {
        "id": "y_3KbUaFHsxF",
        "colab": {
          "base_uri": "https://localhost:8080/"
        },
        "outputId": "d97ec9e6-351a-4510-b09f-55a617880ec4"
      },
      "execution_count": null,
      "outputs": [
        {
          "output_type": "stream",
          "name": "stdout",
          "text": [
            "HELLO\n"
          ]
        }
      ]
    },
    {
      "cell_type": "markdown",
      "source": [
        "##### Lambda function can have any number of arguments but only one expression. This expression is evaluated and returned.\n"
      ],
      "metadata": {
        "id": "BRDMVIlveYNb"
      }
    },
    {
      "cell_type": "code",
      "source": [
        "multiplication = lambda num1, num2 : num1 * num2\n",
        "n1 = 2\n",
        "n2 = 10\n",
        "print('The product of {} and {} is {}.'.format(n1,n2,multiplication(n1,n2)))"
      ],
      "metadata": {
        "id": "th-F25QJeTT4",
        "colab": {
          "base_uri": "https://localhost:8080/"
        },
        "outputId": "b1470b27-8455-4fb5-ed12-a3cae687cd59"
      },
      "execution_count": null,
      "outputs": [
        {
          "output_type": "stream",
          "name": "stdout",
          "text": [
            "The product of 2 and 10 is 20.\n"
          ]
        }
      ]
    },
    {
      "cell_type": "markdown",
      "source": [
        "####List comprehension\n"
      ],
      "metadata": {
        "id": "TLJADvlxeRgC"
      }
    },
    {
      "cell_type": "markdown",
      "source": [
        "##### List comprehension is a concise(giving a lot of information clearly and in a few words; brief but comprehensive.) way of creating lists from the ones that already exist."
      ],
      "metadata": {
        "id": "mgYYXYRfCn5_"
      }
    },
    {
      "cell_type": "code",
      "source": [
        "list1 = [i for i in range(0,10)]\n",
        "print(list1)"
      ],
      "metadata": {
        "id": "8DZsk2V_ePrn",
        "colab": {
          "base_uri": "https://localhost:8080/"
        },
        "outputId": "d45f81a7-d01c-4f2d-eb5b-cdebebd4249a"
      },
      "execution_count": null,
      "outputs": [
        {
          "output_type": "stream",
          "name": "stdout",
          "text": [
            "[0, 1, 2, 3, 4, 5, 6, 7, 8, 9]\n"
          ]
        }
      ]
    },
    {
      "cell_type": "code",
      "source": [
        "evenList = [i for i in range(10) if i % 2 == 0]\n",
        "print(evenList)"
      ],
      "metadata": {
        "id": "2oBs_Xp-eOy7",
        "colab": {
          "base_uri": "https://localhost:8080/"
        },
        "outputId": "48b519e0-4f26-4ef4-969c-d1962755e96e"
      },
      "execution_count": null,
      "outputs": [
        {
          "output_type": "stream",
          "name": "stdout",
          "text": [
            "[0, 2, 4, 6, 8]\n"
          ]
        }
      ]
    },
    {
      "cell_type": "markdown",
      "source": [
        "#### Lambda function and list comprehension\n"
      ],
      "metadata": {
        "id": "LfAJ5dqaeIkt"
      }
    },
    {
      "cell_type": "markdown",
      "source": [
        "####Method - 1"
      ],
      "metadata": {
        "id": "mvwRyyOrHI8i"
      }
    },
    {
      "cell_type": "code",
      "source": [
        "valueList = [(lambda value=i : value + 2)  (i) for  i in range(1,10)]"
      ],
      "metadata": {
        "id": "9g7J6wZseFD-"
      },
      "execution_count": null,
      "outputs": []
    },
    {
      "cell_type": "code",
      "source": [
        "print(valueList)"
      ],
      "metadata": {
        "id": "LDHZQQdXGiMU",
        "colab": {
          "base_uri": "https://localhost:8080/"
        },
        "outputId": "88c60499-d65c-47b9-bbbb-b8cd7fc291f7"
      },
      "execution_count": null,
      "outputs": [
        {
          "output_type": "stream",
          "name": "stdout",
          "text": [
            "[3, 4, 5, 6, 7, 8, 9, 10, 11]\n"
          ]
        }
      ]
    },
    {
      "cell_type": "code",
      "source": [
        "for value in valueList:\n",
        "    print(value)"
      ],
      "metadata": {
        "id": "4q04LdxrGhjc",
        "colab": {
          "base_uri": "https://localhost:8080/"
        },
        "outputId": "3906a5ac-ac23-4b99-dd96-efc4d55511f7"
      },
      "execution_count": null,
      "outputs": [
        {
          "output_type": "stream",
          "name": "stdout",
          "text": [
            "3\n",
            "4\n",
            "5\n",
            "6\n",
            "7\n",
            "8\n",
            "9\n",
            "10\n",
            "11\n"
          ]
        }
      ]
    },
    {
      "cell_type": "markdown",
      "source": [
        "#### Method - 2"
      ],
      "metadata": {
        "id": "6JRAXaMzHNAq"
      }
    },
    {
      "cell_type": "code",
      "source": [
        "valueList = [lambda value=i : value + 2 for  i in range(1,10)]"
      ],
      "metadata": {
        "id": "ncNQDsKrHTr9"
      },
      "execution_count": null,
      "outputs": []
    },
    {
      "cell_type": "code",
      "source": [
        "print(valueList)"
      ],
      "metadata": {
        "id": "MlkrOAi_HYnk",
        "colab": {
          "base_uri": "https://localhost:8080/"
        },
        "outputId": "c6762888-211b-442f-bde3-65937db5bfb0"
      },
      "execution_count": null,
      "outputs": [
        {
          "output_type": "stream",
          "name": "stdout",
          "text": [
            "[<function <listcomp>.<lambda> at 0x7f4fbc7b2680>, <function <listcomp>.<lambda> at 0x7f4fbc7b2560>, <function <listcomp>.<lambda> at 0x7f4fbc7b24d0>, <function <listcomp>.<lambda> at 0x7f4fbc7b25f0>, <function <listcomp>.<lambda> at 0x7f4fbc7b2440>, <function <listcomp>.<lambda> at 0x7f4fbc7b23b0>, <function <listcomp>.<lambda> at 0x7f4fbc7b2320>, <function <listcomp>.<lambda> at 0x7f4fbc7b1fc0>, <function <listcomp>.<lambda> at 0x7f4fbc7b2200>]\n"
          ]
        }
      ]
    },
    {
      "cell_type": "code",
      "source": [
        "for value in valueList:\n",
        "    print(value)"
      ],
      "metadata": {
        "id": "oG2yrrEmHaCe",
        "colab": {
          "base_uri": "https://localhost:8080/"
        },
        "outputId": "bd2d67a8-8e12-4cd2-88b1-f844fb50a722"
      },
      "execution_count": null,
      "outputs": [
        {
          "output_type": "stream",
          "name": "stdout",
          "text": [
            "<function <listcomp>.<lambda> at 0x7f4fbc7b2680>\n",
            "<function <listcomp>.<lambda> at 0x7f4fbc7b2560>\n",
            "<function <listcomp>.<lambda> at 0x7f4fbc7b24d0>\n",
            "<function <listcomp>.<lambda> at 0x7f4fbc7b25f0>\n",
            "<function <listcomp>.<lambda> at 0x7f4fbc7b2440>\n",
            "<function <listcomp>.<lambda> at 0x7f4fbc7b23b0>\n",
            "<function <listcomp>.<lambda> at 0x7f4fbc7b2320>\n",
            "<function <listcomp>.<lambda> at 0x7f4fbc7b1fc0>\n",
            "<function <listcomp>.<lambda> at 0x7f4fbc7b2200>\n"
          ]
        }
      ]
    },
    {
      "cell_type": "code",
      "source": [
        "for value in valueList:\n",
        "    print(value())"
      ],
      "metadata": {
        "colab": {
          "base_uri": "https://localhost:8080/"
        },
        "id": "lPLY2RobloPD",
        "outputId": "b349b209-d7cd-4646-aaf7-330379cef808"
      },
      "execution_count": null,
      "outputs": [
        {
          "output_type": "stream",
          "name": "stdout",
          "text": [
            "3\n",
            "4\n",
            "5\n",
            "6\n",
            "7\n",
            "8\n",
            "9\n",
            "10\n",
            "11\n"
          ]
        }
      ]
    },
    {
      "cell_type": "code",
      "source": [
        "minValue = lambda num1, num2 : num1 if num1 < num2 else num2\n",
        "print ('The minimum value is',minValue(n1, n2),'.')"
      ],
      "metadata": {
        "id": "z9SrJMPmeDqJ",
        "colab": {
          "base_uri": "https://localhost:8080/"
        },
        "outputId": "e0055b13-d6a2-4f5e-8c36-e7788af45bc4"
      },
      "execution_count": null,
      "outputs": [
        {
          "output_type": "stream",
          "name": "stdout",
          "text": [
            "The minimum value is 2 .\n"
          ]
        }
      ]
    }
  ]
}